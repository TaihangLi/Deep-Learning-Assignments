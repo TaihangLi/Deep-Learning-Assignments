{
 "cells": [
  {
   "cell_type": "code",
   "execution_count": 18,
   "metadata": {
    "id": "bwgz7iilwyiK"
   },
   "outputs": [],
   "source": [
    "import tensorflow as tf\n",
    "import numpy as np\n",
    "import keras\n",
    "from tensorflow.keras import layers\n",
    "import matplotlib.pyplot as plt\n",
    "from sklearn.preprocessing import StandardScaler\n",
    "from sklearn.model_selection import train_test_split\n",
    "from keras.datasets import imdb\n",
    "from keras.preprocessing.sequence import pad_sequences \n",
    "from sklearn.linear_model import LogisticRegression\n",
    "from sklearn.feature_extraction.text import TfidfVectorizer, CountVectorizer\n",
    "# from wordcloud import WordCloud, STOPWORDS\n",
    "\n",
    "import nltk\n",
    "from nltk import word_tokenize\n",
    "from nltk.corpus import stopwords\n"
   ]
  },
  {
   "cell_type": "markdown",
   "metadata": {
    "id": "Y7cxEAMhxJZ0"
   },
   "source": [
    "# Load Data"
   ]
  },
  {
   "cell_type": "code",
   "execution_count": 19,
   "metadata": {
    "colab": {
     "base_uri": "https://localhost:8080/"
    },
    "id": "yiTm5cMBxKkQ",
    "outputId": "daf922be-d946-4bc1-d147-bf307f0efa9b"
   },
   "outputs": [],
   "source": [
    "(train_data, y_train), (test_data, y_test)=imdb.load_data(num_words=5000,seed=123)"
   ]
  },
  {
   "cell_type": "markdown",
   "metadata": {
    "id": "xV53AG6VxZpX"
   },
   "source": [
    "# Fully Connected NN"
   ]
  },
  {
   "cell_type": "code",
   "execution_count": 20,
   "metadata": {
    "id": "XMwW2O92roIC"
   },
   "outputs": [],
   "source": [
    "def vectorize_sequences(sequences, dimension=10000):\n",
    "    results = np.zeros((len(sequences), dimension))\n",
    "    for i, sequence in enumerate(sequences):\n",
    "        results[i, sequence] = 1.\n",
    "    return results"
   ]
  },
  {
   "cell_type": "code",
   "execution_count": 21,
   "metadata": {
    "id": "5MrTk-rgsHxf"
   },
   "outputs": [],
   "source": [
    "X_train = vectorize_sequences(train_data)\n",
    "X_test = vectorize_sequences(test_data)"
   ]
  },
  {
   "cell_type": "markdown",
   "metadata": {
    "id": "_UgHOnSw0VkG"
   },
   "source": [
    "## Create Neural Network"
   ]
  },
  {
   "cell_type": "code",
   "execution_count": 22,
   "metadata": {
    "colab": {
     "base_uri": "https://localhost:8080/"
    },
    "id": "C8Zj1K9hsH5W",
    "outputId": "b5649c81-5236-4c26-dc77-5a3f7057c0ac"
   },
   "outputs": [
    {
     "name": "stdout",
     "output_type": "stream",
     "text": [
      "Model: \"sequential_2\"\n",
      "_________________________________________________________________\n",
      " Layer (type)                Output Shape              Param #   \n",
      "=================================================================\n",
      " layer1 (Dense)              (None, 20)                200020    \n",
      "                                                                 \n",
      " layer2 (Dense)              (None, 15)                315       \n",
      "                                                                 \n",
      " layer3 (Dense)              (None, 10)                160       \n",
      "                                                                 \n",
      " output (Dense)              (None, 1)                 11        \n",
      "                                                                 \n",
      "=================================================================\n",
      "Total params: 200,506\n",
      "Trainable params: 200,506\n",
      "Non-trainable params: 0\n",
      "_________________________________________________________________\n"
     ]
    }
   ],
   "source": [
    "model = keras.Sequential(\n",
    "    [\n",
    "        layers.Dense(20, activation=\"relu\", name=\"layer1\", input_shape=(10000,)),\n",
    "        layers.Dense(15, activation=\"relu\", name=\"layer2\"),\n",
    "        layers.Dense(10, activation=\"relu\", name=\"layer3\"),\n",
    "        layers.Dense(1,activation='sigmoid', name=\"output\")\n",
    "    ]\n",
    ")\n",
    "\n",
    "# Set optimizer and loss function\n",
    "model.compile(optimizer='sgd', loss='binary_crossentropy', metrics=['acc'])\n",
    "model.summary()"
   ]
  },
  {
   "cell_type": "code",
   "execution_count": null,
   "metadata": {
    "colab": {
     "base_uri": "https://localhost:8080/"
    },
    "id": "KUYZq2sdseN-",
    "outputId": "4e82290a-f4f4-4f36-89fb-51b078d3d2ab"
   },
   "outputs": [
    {
     "name": "stdout",
     "output_type": "stream",
     "text": [
      "Epoch 1/10\n",
      "196/196 [==============================] - 5s 24ms/step - loss: 0.6927 - acc: 0.5197 - val_loss: 0.6917 - val_acc: 0.5577\n",
      "Epoch 2/10\n",
      "196/196 [==============================] - 3s 17ms/step - loss: 0.6884 - acc: 0.6031 - val_loss: 0.6819 - val_acc: 0.6544\n",
      "Epoch 3/10\n",
      "196/196 [==============================] - 3s 16ms/step - loss: 0.6620 - acc: 0.7149 - val_loss: 0.6347 - val_acc: 0.7575\n",
      "Epoch 4/10\n",
      "196/196 [==============================] - 3s 17ms/step - loss: 0.5862 - acc: 0.7880 - val_loss: 0.5324 - val_acc: 0.8057\n",
      "Epoch 5/10\n",
      "196/196 [==============================] - 3s 16ms/step - loss: 0.4684 - acc: 0.8233 - val_loss: 0.4218 - val_acc: 0.8318\n",
      "Epoch 6/10\n",
      "196/196 [==============================] - 3s 15ms/step - loss: 0.3790 - acc: 0.8499 - val_loss: 0.3665 - val_acc: 0.8493\n",
      "Epoch 7/10\n",
      "196/196 [==============================] - 3s 16ms/step - loss: 0.3316 - acc: 0.8658 - val_loss: 0.3337 - val_acc: 0.8620\n",
      "Epoch 8/10\n",
      "196/196 [==============================] - 3s 16ms/step - loss: 0.3027 - acc: 0.8780 - val_loss: 0.3156 - val_acc: 0.8701\n",
      "Epoch 9/10\n",
      "196/196 [==============================] - 3s 16ms/step - loss: 0.2821 - acc: 0.8860 - val_loss: 0.3043 - val_acc: 0.8753\n",
      "Epoch 10/10\n",
      "196/196 [==============================] - 4s 19ms/step - loss: 0.2661 - acc: 0.8928 - val_loss: 0.3018 - val_acc: 0.8752\n"
     ]
    }
   ],
   "source": [
    "history = model.fit(X_train, y_train, validation_data = (X_test,y_test), epochs=10, batch_size=128)"
   ]
  },
  {
   "cell_type": "code",
   "execution_count": null,
   "metadata": {
    "colab": {
     "base_uri": "https://localhost:8080/"
    },
    "id": "F_4YNvRrseQe",
    "outputId": "bec145b1-5779-420c-876e-414378d84b1e"
   },
   "outputs": [
    {
     "name": "stdout",
     "output_type": "stream",
     "text": [
      "782/782 [==============================] - 2s 3ms/step - loss: 0.3018 - acc: 0.8752\n",
      "____________________________________________________________________________________________________\n",
      "Test Loss and Accuracy\n",
      "results  [0.3018130362033844, 0.8752400279045105]\n"
     ]
    }
   ],
   "source": [
    "results = model.evaluate(X_test, y_test)\n",
    "print(\"_\"*100)\n",
    "print(\"Test Loss and Accuracy\")\n",
    "print(\"results \", results)"
   ]
  },
  {
   "cell_type": "markdown",
   "metadata": {
    "id": "RLCSm_LgxV9u"
   },
   "source": [
    "# Logistic Regression"
   ]
  },
  {
   "cell_type": "code",
   "execution_count": null,
   "metadata": {
    "colab": {
     "base_uri": "https://localhost:8080/"
    },
    "id": "AucDpNl1X88m",
    "outputId": "48bf5374-42e4-41f2-9913-751913fe8e71"
   },
   "outputs": [
    {
     "name": "stderr",
     "output_type": "stream",
     "text": [
      "/usr/local/lib/python3.7/dist-packages/sklearn/linear_model/_logistic.py:818: ConvergenceWarning: lbfgs failed to converge (status=1):\n",
      "STOP: TOTAL NO. of ITERATIONS REACHED LIMIT.\n",
      "\n",
      "Increase the number of iterations (max_iter) or scale the data as shown in:\n",
      "    https://scikit-learn.org/stable/modules/preprocessing.html\n",
      "Please also refer to the documentation for alternative solver options:\n",
      "    https://scikit-learn.org/stable/modules/linear_model.html#logistic-regression\n",
      "  extra_warning_msg=_LOGISTIC_SOLVER_CONVERGENCE_MSG,\n"
     ]
    }
   ],
   "source": [
    "clf = LogisticRegression(random_state=0).fit(X_train, y_train)"
   ]
  },
  {
   "cell_type": "code",
   "execution_count": null,
   "metadata": {
    "colab": {
     "base_uri": "https://localhost:8080/"
    },
    "id": "dp7XXdpCX88u",
    "outputId": "ffa82bc8-8ff6-4e72-b853-9ac938f83886"
   },
   "outputs": [
    {
     "name": "stdout",
     "output_type": "stream",
     "text": [
      "Accuracy: 0.85848\n"
     ]
    }
   ],
   "source": [
    "result=clf.score(X_test, y_test)\n",
    "print(\"Accuracy:\", result)"
   ]
  },
  {
   "cell_type": "markdown",
   "metadata": {
    "id": "1aZGz632xea4"
   },
   "source": [
    "# CNN"
   ]
  },
  {
   "cell_type": "code",
   "execution_count": null,
   "metadata": {
    "id": "G8aYz50zl8QJ"
   },
   "outputs": [],
   "source": [
    "maxlen=130\n",
    "X_train = pad_sequences(train_data, maxlen=maxlen)\n",
    "X_test = pad_sequences(test_data, maxlen=maxlen)"
   ]
  },
  {
   "cell_type": "code",
   "execution_count": null,
   "metadata": {
    "colab": {
     "base_uri": "https://localhost:8080/"
    },
    "id": "A6qzxn01n6wU",
    "outputId": "70e09683-2f33-41e2-9610-1d49d24e2697"
   },
   "outputs": [
    {
     "name": "stdout",
     "output_type": "stream",
     "text": [
      "Model: \"sequential_7\"\n",
      "_________________________________________________________________\n",
      " Layer (type)                Output Shape              Param #   \n",
      "=================================================================\n",
      " embedding_4 (Embedding)     (None, 130, 32)           160000    \n",
      "                                                                 \n",
      " conv1d_4 (Conv1D)           (None, 124, 32)           7200      \n",
      "                                                                 \n",
      " max_pooling1d_4 (MaxPooling  (None, 31, 32)           0         \n",
      " 1D)                                                             \n",
      "                                                                 \n",
      " flatten_4 (Flatten)         (None, 992)               0         \n",
      "                                                                 \n",
      " dense_8 (Dense)             (None, 8)                 7944      \n",
      "                                                                 \n",
      " dense_9 (Dense)             (None, 1)                 9         \n",
      "                                                                 \n",
      "=================================================================\n",
      "Total params: 175,153\n",
      "Trainable params: 175,153\n",
      "Non-trainable params: 0\n",
      "_________________________________________________________________\n"
     ]
    }
   ],
   "source": [
    "modelC = keras.Sequential(\n",
    "    [\n",
    "    layers.Embedding(5000,32,input_length=maxlen),\n",
    "    layers.Conv1D(32,7, activation='relu'),\n",
    "    layers.MaxPooling1D(4),\n",
    "    layers.Flatten(),\n",
    "    layers.Dense(8, activation='relu'),\n",
    "    layers.Dense(1)\n",
    "    ]\n",
    ")\n",
    "#X_train = np.asarray(X_train).astype('float32')\n",
    "modelC.compile(loss='binary_crossentropy',optimizer='adam',metrics=['accuracy'])\n",
    "modelC.summary()"
   ]
  },
  {
   "cell_type": "code",
   "execution_count": null,
   "metadata": {
    "colab": {
     "base_uri": "https://localhost:8080/"
    },
    "id": "iKjhtVPuodmk",
    "outputId": "b4613dff-3d6c-4849-84d5-23dbc76d1d84"
   },
   "outputs": [
    {
     "name": "stdout",
     "output_type": "stream",
     "text": [
      "Epoch 1/6\n",
      "196/196 [==============================] - 11s 51ms/step - loss: 0.6911 - accuracy: 0.6401 - val_loss: 0.5418 - val_accuracy: 0.7767\n",
      "Epoch 2/6\n",
      "196/196 [==============================] - 10s 50ms/step - loss: 0.4256 - accuracy: 0.8360 - val_loss: 0.5558 - val_accuracy: 0.8261\n",
      "Epoch 3/6\n",
      "196/196 [==============================] - 10s 50ms/step - loss: 0.3445 - accuracy: 0.8739 - val_loss: 0.4115 - val_accuracy: 0.8276\n",
      "Epoch 4/6\n",
      "196/196 [==============================] - 10s 51ms/step - loss: 0.2651 - accuracy: 0.9089 - val_loss: 0.4865 - val_accuracy: 0.8528\n",
      "Epoch 5/6\n",
      "196/196 [==============================] - 10s 50ms/step - loss: 0.1973 - accuracy: 0.9366 - val_loss: 0.5701 - val_accuracy: 0.8546\n",
      "Epoch 6/6\n",
      "196/196 [==============================] - 10s 50ms/step - loss: 0.1554 - accuracy: 0.9591 - val_loss: 0.7176 - val_accuracy: 0.8538\n"
     ]
    }
   ],
   "source": [
    "history = modelC.fit(X_train, y_train,validation_data = (X_test,y_test), epochs=6, batch_size=128)"
   ]
  },
  {
   "cell_type": "code",
   "execution_count": null,
   "metadata": {
    "colab": {
     "base_uri": "https://localhost:8080/"
    },
    "id": "GBL00mRno5eX",
    "outputId": "b71b6ad5-a8fe-461a-d5ec-7a12de43bdcc"
   },
   "outputs": [
    {
     "name": "stdout",
     "output_type": "stream",
     "text": [
      "782/782 [==============================] - 4s 5ms/step - loss: 0.7176 - accuracy: 0.8538\n",
      "____________________________________________________________________________________________________\n",
      "Test Loss and Accuracy\n",
      "results  [0.7175954580307007, 0.8537999987602234]\n"
     ]
    }
   ],
   "source": [
    "results = modelC.evaluate(X_test, y_test)\n",
    "print(\"_\"*100)\n",
    "print(\"Test Loss and Accuracy\")\n",
    "print(\"results \", results)"
   ]
  },
  {
   "cell_type": "code",
   "execution_count": null,
   "metadata": {
    "colab": {
     "base_uri": "https://localhost:8080/",
     "height": 295
    },
    "id": "btBBvqbOqeCH",
    "outputId": "5f026cc5-ee02-4a5b-8938-a1ef3f09eafd"
   },
   "outputs": [
    {
     "data": {
      "image/png": "[encoded data removed]",
      "text/plain": [
       "<Figure size 432x288 with 1 Axes>"
      ]
     },
     "metadata": {
      "needs_background": "light"
     },
     "output_type": "display_data"
    }
   ],
   "source": [
    "plt.figure()\n",
    "plt.plot(history.history[\"accuracy\"],label=\"Train\");\n",
    "plt.plot(history.history[\"val_accuracy\"],label=\"Test\");\n",
    "plt.title(\"Accuracy\")\n",
    "plt.ylabel(\"Accuracy\")\n",
    "plt.xlabel(\"Epochs\")\n",
    "plt.legend()\n",
    "plt.show();"
   ]
  },
  {
   "cell_type": "code",
   "execution_count": null,
   "metadata": {
    "colab": {
     "base_uri": "https://localhost:8080/",
     "height": 295
    },
    "id": "gc8us4M8sbBM",
    "outputId": "be9dc964-6589-4b98-f341-ecc12985d0b1"
   },
   "outputs": [
    {
     "data": {
      "image/png": "[encoded data removed]",
      "text/plain": [
       "<Figure size 432x288 with 1 Axes>"
      ]
     },
     "metadata": {
      "needs_background": "light"
     },
     "output_type": "display_data"
    }
   ],
   "source": [
    "plt.figure()\n",
    "plt.plot(history.history[\"loss\"],label=\"Train\");\n",
    "plt.plot(history.history[\"val_loss\"],label=\"Test\");\n",
    "plt.title(\"Loss\")\n",
    "plt.ylabel(\"Loss\")\n",
    "plt.xlabel(\"Epochs\")\n",
    "plt.legend()\n",
    "plt.show();"
   ]
  },
  {
   "cell_type": "markdown",
   "metadata": {
    "id": "_K-mxqJc353f"
   },
   "source": [
    "# Remove Stop Words"
   ]
  },
  {
   "cell_type": "code",
   "execution_count": null,
   "metadata": {
    "colab": {
     "base_uri": "https://localhost:8080/"
    },
    "id": "ONeAkJOt5zri",
    "outputId": "2c214c45-6d93-49a5-83d4-90a5e0d2914b"
   },
   "outputs": [
    {
     "name": "stdout",
     "output_type": "stream",
     "text": [
      "['i', 'me', 'my', 'myself', 'we', 'our', 'ours', 'ourselves', 'you', \"you're\", \"you've\", \"you'll\", \"you'd\", 'your', 'yours', 'yourself', 'yourselves', 'he', 'him', 'his', 'himself', 'she', \"she's\", 'her', 'hers', 'herself', 'it', \"it's\", 'its', 'itself', 'they', 'them', 'their', 'theirs', 'themselves', 'what', 'which', 'who', 'whom', 'this', 'that', \"that'll\", 'these', 'those', 'am', 'is', 'are', 'was', 'were', 'be', 'been', 'being', 'have', 'has', 'had', 'having', 'do', 'does', 'did', 'doing', 'a', 'an', 'the', 'and', 'but', 'if', 'or', 'because', 'as', 'until', 'while', 'of', 'at', 'by', 'for', 'with', 'about', 'against', 'between', 'into', 'through', 'during', 'before', 'after', 'above', 'below', 'to', 'from', 'up', 'down', 'in', 'out', 'on', 'off', 'over', 'under', 'again', 'further', 'then', 'once', 'here', 'there', 'when', 'where', 'why', 'how', 'all', 'any', 'both', 'each', 'few', 'more', 'most', 'other', 'some', 'such', 'no', 'nor', 'not', 'only', 'own', 'same', 'so', 'than', 'too', 'very', 's', 't', 'can', 'will', 'just', 'don', \"don't\", 'should', \"should've\", 'now', 'd', 'll', 'm', 'o', 're', 've', 'y', 'ain', 'aren', \"aren't\", 'couldn', \"couldn't\", 'didn', \"didn't\", 'doesn', \"doesn't\", 'hadn', \"hadn't\", 'hasn', \"hasn't\", 'haven', \"haven't\", 'isn', \"isn't\", 'ma', 'mightn', \"mightn't\", 'mustn', \"mustn't\", 'needn', \"needn't\", 'shan', \"shan't\", 'shouldn', \"shouldn't\", 'wasn', \"wasn't\", 'weren', \"weren't\", 'won', \"won't\", 'wouldn', \"wouldn't\"]\n"
     ]
    },
    {
     "name": "stderr",
     "output_type": "stream",
     "text": [
      "[nltk_data] Downloading package stopwords to /root/nltk_data...\n",
      "[nltk_data]   Unzipping corpora/stopwords.zip.\n"
     ]
    }
   ],
   "source": [
    "nltk.download('stopwords')\n",
    "sw_nltk = stopwords.words('english')\n",
    "print(sw_nltk)"
   ]
  },
  {
   "cell_type": "code",
   "execution_count": null,
   "metadata": {
    "colab": {
     "base_uri": "https://localhost:8080/"
    },
    "id": "KHdpfDpe4BxY",
    "outputId": "48dfec54-4284-44b8-f190-c7579e8826b1"
   },
   "outputs": [
    {
     "name": "stdout",
     "output_type": "stream",
     "text": [
      "Downloading data from https://storage.googleapis.com/tensorflow/tf-keras-datasets/imdb_word_index.json\n",
      "1646592/1641221 [==============================] - 0s 0us/step\n",
      "1654784/1641221 [==============================] - 0s 0us/step\n"
     ]
    }
   ],
   "source": [
    "word_index = imdb.get_word_index()\n",
    "reverse_word_index = dict(\n",
    "[(value, key) for (key, value) in word_index.items()])"
   ]
  },
  {
   "cell_type": "markdown",
   "metadata": {
    "id": "HV1VBDMM4QCL"
   },
   "source": [
    "## Remove from train"
   ]
  },
  {
   "cell_type": "code",
   "execution_count": null,
   "metadata": {
    "id": "bR503tbo4MUj"
   },
   "outputs": [],
   "source": [
    "filtered_train = []\n",
    "for i in range(25000):\n",
    "  filtered_sentence = []\n",
    "  for k in train_data[i]:\n",
    "    if reverse_word_index[k] not in sw_nltk:\n",
    "      filtered_sentence.append(k)\n",
    "  filtered_train.append(filtered_sentence)"
   ]
  },
  {
   "cell_type": "markdown",
   "metadata": {
    "id": "X8NQUobK4T_A"
   },
   "source": [
    "## Remove from test"
   ]
  },
  {
   "cell_type": "code",
   "execution_count": null,
   "metadata": {
    "id": "O9C1z0BW4O2A"
   },
   "outputs": [],
   "source": [
    "filtered_test = []\n",
    "for i in range(25000):\n",
    "  filtered_sentence = []\n",
    "  for k in test_data[i]:\n",
    "    if reverse_word_index[k] not in sw_nltk:\n",
    "      filtered_sentence.append(k)\n",
    "  filtered_test.append(filtered_sentence)"
   ]
  },
  {
   "cell_type": "markdown",
   "metadata": {
    "id": "jhrwzJBN48cx"
   },
   "source": [
    "# Fully Connected NN after Removal"
   ]
  },
  {
   "cell_type": "code",
   "execution_count": null,
   "metadata": {
    "id": "uo0uWLjV48c4"
   },
   "outputs": [],
   "source": [
    "def vectorize_sequences(sequences, dimension=10000):\n",
    "    results = np.zeros((len(sequences), dimension))\n",
    "    for i, sequence in enumerate(sequences):\n",
    "        results[i, sequence] = 1.\n",
    "    return results"
   ]
  },
  {
   "cell_type": "code",
   "execution_count": null,
   "metadata": {
    "id": "-WqcZzme48c5"
   },
   "outputs": [],
   "source": [
    "X_train = vectorize_sequences(filtered_train)\n",
    "X_test = vectorize_sequences(filtered_test)"
   ]
  },
  {
   "cell_type": "markdown",
   "metadata": {
    "id": "ppUhQ4Ty48c5"
   },
   "source": [
    "## Create Neural Network"
   ]
  },
  {
   "cell_type": "code",
   "execution_count": null,
   "metadata": {
    "colab": {
     "base_uri": "https://localhost:8080/"
    },
    "id": "MIPNgkbb48c5",
    "outputId": "ddb911fe-b603-4527-8601-686cc9a7853d"
   },
   "outputs": [
    {
     "name": "stdout",
     "output_type": "stream",
     "text": [
      "Model: \"sequential\"\n",
      "_________________________________________________________________\n",
      " Layer (type)                Output Shape              Param #   \n",
      "=================================================================\n",
      " layer1 (Dense)              (None, 20)                200020    \n",
      "                                                                 \n",
      " layer2 (Dense)              (None, 15)                315       \n",
      "                                                                 \n",
      " layer3 (Dense)              (None, 10)                160       \n",
      "                                                                 \n",
      " output (Dense)              (None, 1)                 11        \n",
      "                                                                 \n",
      "=================================================================\n",
      "Total params: 200,506\n",
      "Trainable params: 200,506\n",
      "Non-trainable params: 0\n",
      "_________________________________________________________________\n"
     ]
    }
   ],
   "source": [
    "model = keras.Sequential(\n",
    "    [\n",
    "        layers.Dense(20, activation=\"relu\", name=\"layer1\", input_shape=(10000,)),\n",
    "        layers.Dense(15, activation=\"relu\", name=\"layer2\"),\n",
    "        layers.Dense(10, activation=\"relu\", name=\"layer3\"),\n",
    "        layers.Dense(1,activation='sigmoid', name=\"output\")\n",
    "    ]\n",
    ")\n",
    "\n",
    "# Set optimizer and loss function\n",
    "model.compile(optimizer='sgd', loss='binary_crossentropy', metrics=['acc'])\n",
    "model.summary()"
   ]
  },
  {
   "cell_type": "code",
   "execution_count": null,
   "metadata": {
    "colab": {
     "base_uri": "https://localhost:8080/"
    },
    "id": "0rBRAwTS48c5",
    "outputId": "0255bf54-9cce-439d-8ce8-9ad2f067c9e0"
   },
   "outputs": [
    {
     "name": "stdout",
     "output_type": "stream",
     "text": [
      "Epoch 1/10\n",
      "196/196 [==============================] - 4s 18ms/step - loss: 0.6915 - acc: 0.5341 - val_loss: 0.6894 - val_acc: 0.5798\n",
      "Epoch 2/10\n",
      "196/196 [==============================] - 3s 15ms/step - loss: 0.6828 - acc: 0.6391 - val_loss: 0.6729 - val_acc: 0.6932\n",
      "Epoch 3/10\n",
      "196/196 [==============================] - 3s 17ms/step - loss: 0.6526 - acc: 0.7421 - val_loss: 0.6294 - val_acc: 0.7676\n",
      "Epoch 4/10\n",
      "196/196 [==============================] - 3s 16ms/step - loss: 0.5896 - acc: 0.7975 - val_loss: 0.5505 - val_acc: 0.8076\n",
      "Epoch 5/10\n",
      "196/196 [==============================] - 3s 15ms/step - loss: 0.4947 - acc: 0.8267 - val_loss: 0.4550 - val_acc: 0.8316\n",
      "Epoch 6/10\n",
      "196/196 [==============================] - 3s 14ms/step - loss: 0.4049 - acc: 0.8478 - val_loss: 0.3865 - val_acc: 0.8481\n",
      "Epoch 7/10\n",
      "196/196 [==============================] - 3s 14ms/step - loss: 0.3465 - acc: 0.8656 - val_loss: 0.3481 - val_acc: 0.8595\n",
      "Epoch 8/10\n",
      "196/196 [==============================] - 3s 14ms/step - loss: 0.3111 - acc: 0.8768 - val_loss: 0.3278 - val_acc: 0.8656\n",
      "Epoch 9/10\n",
      "196/196 [==============================] - 3s 17ms/step - loss: 0.2874 - acc: 0.8871 - val_loss: 0.3169 - val_acc: 0.8686\n",
      "Epoch 10/10\n",
      "196/196 [==============================] - 3s 15ms/step - loss: 0.2704 - acc: 0.8938 - val_loss: 0.3106 - val_acc: 0.8702\n"
     ]
    }
   ],
   "source": [
    "history = model.fit(X_train, y_train, validation_data = (X_test,y_test), epochs=10, batch_size=128)"
   ]
  },
  {
   "cell_type": "code",
   "execution_count": null,
   "metadata": {
    "colab": {
     "base_uri": "https://localhost:8080/"
    },
    "id": "FWBUrAVa48c5",
    "outputId": "c538b9ff-424c-49be-cb7b-d473b807ed4c"
   },
   "outputs": [
    {
     "name": "stdout",
     "output_type": "stream",
     "text": [
      "782/782 [==============================] - 2s 3ms/step - loss: 0.3106 - acc: 0.8702\n",
      "____________________________________________________________________________________________________\n",
      "Test Loss and Accuracy\n",
      "results  [0.3105619251728058, 0.8702399730682373]\n"
     ]
    }
   ],
   "source": [
    "results = model.evaluate(X_test, y_test)\n",
    "print(\"_\"*100)\n",
    "print(\"Test Loss and Accuracy\")\n",
    "print(\"results \", results)"
   ]
  },
  {
   "cell_type": "markdown",
   "metadata": {
    "id": "zXG_qKRW48c6"
   },
   "source": [
    "# Logistic Regression after Removal"
   ]
  },
  {
   "cell_type": "code",
   "execution_count": null,
   "metadata": {
    "colab": {
     "base_uri": "https://localhost:8080/"
    },
    "id": "hw6AdFam48c6",
    "outputId": "1dc27343-ca63-4f77-ce5f-c9d4827baf9a"
   },
   "outputs": [
    {
     "name": "stderr",
     "output_type": "stream",
     "text": [
      "/usr/local/lib/python3.7/dist-packages/sklearn/linear_model/_logistic.py:818: ConvergenceWarning: lbfgs failed to converge (status=1):\n",
      "STOP: TOTAL NO. of ITERATIONS REACHED LIMIT.\n",
      "\n",
      "Increase the number of iterations (max_iter) or scale the data as shown in:\n",
      "    https://scikit-learn.org/stable/modules/preprocessing.html\n",
      "Please also refer to the documentation for alternative solver options:\n",
      "    https://scikit-learn.org/stable/modules/linear_model.html#logistic-regression\n",
      "  extra_warning_msg=_LOGISTIC_SOLVER_CONVERGENCE_MSG,\n"
     ]
    }
   ],
   "source": [
    "clf = LogisticRegression(random_state=0).fit(X_train, y_train)"
   ]
  },
  {
   "cell_type": "code",
   "execution_count": null,
   "metadata": {
    "colab": {
     "base_uri": "https://localhost:8080/"
    },
    "id": "bGFOhOFm48c6",
    "outputId": "4c212e13-d7db-4f96-a127-65a3941a565f"
   },
   "outputs": [
    {
     "name": "stdout",
     "output_type": "stream",
     "text": [
      "Accuracy: 0.84856\n"
     ]
    }
   ],
   "source": [
    "result=clf.score(X_test, y_test)\n",
    "print(\"Accuracy:\", result)"
   ]
  },
  {
   "cell_type": "markdown",
   "metadata": {
    "id": "CXiROFav48c6"
   },
   "source": [
    "# CNN after Removal"
   ]
  },
  {
   "cell_type": "code",
   "execution_count": null,
   "metadata": {
    "id": "954mtB1148c6"
   },
   "outputs": [],
   "source": [
    "maxlen=130\n",
    "X_train = pad_sequences(filtered_train, maxlen=maxlen)\n",
    "X_test = pad_sequences(filtered_test, maxlen=maxlen)"
   ]
  },
  {
   "cell_type": "code",
   "execution_count": null,
   "metadata": {
    "colab": {
     "base_uri": "https://localhost:8080/"
    },
    "id": "126Hn_Oi48c6",
    "outputId": "66982802-f5df-41ef-bb27-186eeefecae0"
   },
   "outputs": [
    {
     "name": "stdout",
     "output_type": "stream",
     "text": [
      "Model: \"sequential_2\"\n",
      "_________________________________________________________________\n",
      " Layer (type)                Output Shape              Param #   \n",
      "=================================================================\n",
      " embedding_1 (Embedding)     (None, 130, 32)           160000    \n",
      "                                                                 \n",
      " conv1d_1 (Conv1D)           (None, 124, 32)           7200      \n",
      "                                                                 \n",
      " max_pooling1d_1 (MaxPooling  (None, 31, 32)           0         \n",
      " 1D)                                                             \n",
      "                                                                 \n",
      " flatten_1 (Flatten)         (None, 992)               0         \n",
      "                                                                 \n",
      " dense_2 (Dense)             (None, 8)                 7944      \n",
      "                                                                 \n",
      " dense_3 (Dense)             (None, 1)                 9         \n",
      "                                                                 \n",
      "=================================================================\n",
      "Total params: 175,153\n",
      "Trainable params: 175,153\n",
      "Non-trainable params: 0\n",
      "_________________________________________________________________\n"
     ]
    }
   ],
   "source": [
    "modelC = keras.Sequential(\n",
    "    [\n",
    "    layers.Embedding(5000,32,input_length=maxlen),\n",
    "    layers.Conv1D(32,7, activation='relu'),\n",
    "    layers.MaxPooling1D(4),\n",
    "    layers.Flatten(),\n",
    "    layers.Dense(8, activation='relu'),\n",
    "    layers.Dense(1)\n",
    "    ]\n",
    ")\n",
    "#X_train = np.asarray(X_train).astype('float32')\n",
    "modelC.compile(loss='binary_crossentropy',optimizer='adam',metrics=['accuracy'])\n",
    "modelC.summary()"
   ]
  },
  {
   "cell_type": "code",
   "execution_count": null,
   "metadata": {
    "colab": {
     "base_uri": "https://localhost:8080/"
    },
    "id": "hU0GiZ6c48c7",
    "outputId": "fb1c1562-1377-40c5-ccce-b22fc4737941"
   },
   "outputs": [
    {
     "name": "stdout",
     "output_type": "stream",
     "text": [
      "Epoch 1/6\n",
      "196/196 [==============================] - 11s 51ms/step - loss: 0.5887 - accuracy: 0.7101 - val_loss: 0.4032 - val_accuracy: 0.8368\n",
      "Epoch 2/6\n",
      "196/196 [==============================] - 10s 50ms/step - loss: 0.3451 - accuracy: 0.8684 - val_loss: 0.3996 - val_accuracy: 0.8600\n",
      "Epoch 3/6\n",
      "196/196 [==============================] - 10s 51ms/step - loss: 0.2443 - accuracy: 0.9136 - val_loss: 0.4459 - val_accuracy: 0.8619\n",
      "Epoch 4/6\n",
      "196/196 [==============================] - 10s 50ms/step - loss: 0.1925 - accuracy: 0.9381 - val_loss: 0.4871 - val_accuracy: 0.8592\n",
      "Epoch 5/6\n",
      "196/196 [==============================] - 10s 50ms/step - loss: 0.1451 - accuracy: 0.9612 - val_loss: 0.5779 - val_accuracy: 0.8583\n",
      "Epoch 6/6\n",
      "196/196 [==============================] - 10s 50ms/step - loss: 0.1087 - accuracy: 0.9803 - val_loss: 0.6368 - val_accuracy: 0.8551\n"
     ]
    }
   ],
   "source": [
    "history = modelC.fit(X_train, y_train,validation_data = (X_test,y_test), epochs=6, batch_size=128)"
   ]
  },
  {
   "cell_type": "code",
   "execution_count": null,
   "metadata": {
    "colab": {
     "base_uri": "https://localhost:8080/"
    },
    "id": "reQ-hsDl48c7",
    "outputId": "d956199d-0449-4b6a-fc1b-957f1f4d6aab"
   },
   "outputs": [
    {
     "name": "stdout",
     "output_type": "stream",
     "text": [
      "782/782 [==============================] - 3s 4ms/step - loss: 0.6368 - accuracy: 0.8551\n",
      "____________________________________________________________________________________________________\n",
      "Test Loss and Accuracy\n",
      "results  [0.6367582678794861, 0.8550800085067749]\n"
     ]
    }
   ],
   "source": [
    "results = modelC.evaluate(X_test, y_test)\n",
    "print(\"_\"*100)\n",
    "print(\"Test Loss and Accuracy\")\n",
    "print(\"results \", results)"
   ]
  },
  {
   "cell_type": "code",
   "execution_count": null,
   "metadata": {
    "colab": {
     "base_uri": "https://localhost:8080/",
     "height": 295
    },
    "id": "EKWsfMQn48c7",
    "outputId": "0589f910-031c-4e5d-afb0-fab94393b202"
   },
   "outputs": [
    {
     "data": {
      "image/png": "[encoded data removed]",
      "text/plain": [
       "<Figure size 432x288 with 1 Axes>"
      ]
     },
     "metadata": {
      "needs_background": "light"
     },
     "output_type": "display_data"
    }
   ],
   "source": [
    "plt.figure()\n",
    "plt.plot(history.history[\"accuracy\"],label=\"Train\");\n",
    "plt.plot(history.history[\"val_accuracy\"],label=\"Test\");\n",
    "plt.title(\"Accuracy\")\n",
    "plt.ylabel(\"Accuracy\")\n",
    "plt.xlabel(\"Epochs\")\n",
    "plt.legend()\n",
    "plt.show();"
   ]
  },
  {
   "cell_type": "code",
   "execution_count": null,
   "metadata": {
    "colab": {
     "base_uri": "https://localhost:8080/",
     "height": 295
    },
    "id": "3JOTEDoT48c7",
    "outputId": "2a8be37d-89cb-4743-dcd7-b7d523450159"
   },
   "outputs": [
    {
     "data": {
      "image/png": "[encoded data removed]",
      "text/plain": [
       "<Figure size 432x288 with 1 Axes>"
      ]
     },
     "metadata": {
      "needs_background": "light"
     },
     "output_type": "display_data"
    }
   ],
   "source": [
    "plt.figure()\n",
    "plt.plot(history.history[\"loss\"],label=\"Train\");\n",
    "plt.plot(history.history[\"val_loss\"],label=\"Test\");\n",
    "plt.title(\"Loss\")\n",
    "plt.ylabel(\"Loss\")\n",
    "plt.xlabel(\"Epochs\")\n",
    "plt.legend()\n",
    "plt.show();"
   ]
  }
 ],
 "metadata": {
  "colab": {
   "name": "Final.ipynb",
   "provenance": []
  },
  "kernelspec": {
   "display_name": "Python 3 (ipykernel)",
   "language": "python",
   "name": "python3"
  },
  "language_info": {
   "codemirror_mode": {
    "name": "ipython",
    "version": 3
   },
   "file_extension": ".py",
   "mimetype": "text/x-python",
   "name": "python",
   "nbconvert_exporter": "python",
   "pygments_lexer": "ipython3",
   "version": "3.8.13"
  }
 },
 "nbformat": 4,
 "nbformat_minor": 4
}
